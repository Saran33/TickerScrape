{
 "cells": [
  {
   "cell_type": "code",
   "execution_count": null,
   "metadata": {},
   "outputs": [],
   "source": [
    "from numerizer import numerize as rev_numerize\n",
    "from numerize.numerize import numerize\n",
    "# import locale\n",
    "# locale.setlocale(locale.LC_ALL, 'en_US')  # Use '' for auto, or force e.g. to 'en_US.UTF-8'"
   ]
  },
  {
   "cell_type": "code",
   "execution_count": 2,
   "metadata": {},
   "outputs": [
    {
     "data": {
      "text/plain": [
       "nan"
      ]
     },
     "execution_count": 2,
     "metadata": {},
     "output_type": "execute_result"
    }
   ],
   "source": [
    "flz = 'N/A'\n",
    "\n",
    "def to_float(float_str):\n",
    "    try:\n",
    "        fl = float(float_str)\n",
    "    except:\n",
    "        fl = float(\"NaN\")\n",
    "    return fl\n",
    "\n",
    "to_float(flz)"
   ]
  },
  {
   "cell_type": "code",
   "execution_count": null,
   "metadata": {},
   "outputs": [],
   "source": [
    "fl = numerize(2460000000)\n",
    "print(fl)"
   ]
  },
  {
   "cell_type": "code",
   "execution_count": null,
   "metadata": {},
   "outputs": [],
   "source": [
    "# cur_str = '$2.46T'\n",
    "cur_str = '$2.46 Trillion'\n",
    "\n",
    "num_strs = ['thousand', 'million', 'billion', 'trillion']\n",
    "for x in num_strs:\n",
    "    if x in cur_str.lower():\n",
    "        str_num_1 = cur_str.lower().replace(x, '').replace(',','').replace('$','')\n",
    "# str_num_1 = [cur_str.replace(x, '') for x in num_strs if x in cur_str.lower()]\n",
    "print(str_num_1)\n",
    "if str_num_1 == cur_str:\n",
    "    str_num_1 = cur_str.replace('M', '').replace('B', '').replace('T', '').replace(',','').replace('$','')\n",
    "print (str_num_1)\n",
    "if 'm' in cur_str.lower():\n",
    "    fl_num = float(str_num_1) * 1000000\n",
    "elif 'b' in cur_str.lower():\n",
    "    fl_num = float(str_num_1) * 1000000000\n",
    "elif 'thousand' in cur_str.lower():\n",
    "    fl_num = float(str_num_1) * 1000\n",
    "elif ('T' in cur_str) or ('trillion' in cur_str.lower()):\n",
    "    fl_num = float(str_num_1) * 1000000000000\n",
    "print (\"${0:,.2f}\".format(fl_num))\n"
   ]
  },
  {
   "cell_type": "code",
   "execution_count": null,
   "metadata": {},
   "outputs": [],
   "source": [
    "cur_fl = '$' + numerize(fl_num, 2)\n",
    "print (cur_fl)"
   ]
  },
  {
   "cell_type": "code",
   "execution_count": null,
   "metadata": {},
   "outputs": [],
   "source": [
    "type(cur_fl)"
   ]
  },
  {
   "cell_type": "code",
   "execution_count": null,
   "metadata": {},
   "outputs": [],
   "source": []
  },
  {
   "cell_type": "code",
   "execution_count": 31,
   "metadata": {},
   "outputs": [],
   "source": [
    "def curr_str_to_float(cur_str, symbol='$'):\n",
    "    '''Convert a currency string-formatted number into a float.'''\n",
    "\n",
    "    num_strs = ['thousand', 'million', 'billion', 'trillion']\n",
    "    str_num_1 = None\n",
    "    try:\n",
    "        if not cur_str[0].isdigit():\n",
    "            symbol = cur_str[0]\n",
    "        for x in num_strs:\n",
    "            if x in cur_str.lower():\n",
    "                str_num_1 = cur_str.lower().replace(x, '').replace(',','').replace(symbol,'')\n",
    "                # str_num_1 = [cur_str.replace(x, '') for x in num_strs if x in cur_str.lower()]\n",
    "        if not str_num_1:\n",
    "            str_num_1 = cur_str.replace('M', '').replace('B', '').replace('T', '').replace(',','').replace(symbol,'')\n",
    "        if 'm' in cur_str.lower():\n",
    "            fl_num = float(str_num_1) * 1000000\n",
    "        elif 'b' in cur_str.lower():\n",
    "            fl_num = float(str_num_1) * 1000000000\n",
    "        elif 'thousand' in cur_str.lower():\n",
    "            fl_num = float(str_num_1) * 1000\n",
    "        elif ('T' in cur_str) or ('trillion' in cur_str.lower()):\n",
    "            fl_num = float(str_num_1) * 1000000000000\n",
    "        elif [i.isdigit() for i in str_num_1]:\n",
    "            fl_num = float(str_num_1)\n",
    "        else:\n",
    "            fl_num = float(\"NaN\")\n",
    "        # print (\"${0:,.2f}\".format(fl_num))\n",
    "    except:\n",
    "        fl_num = float(\"NaN\")\n",
    "        print (fl_num)\n",
    "    return fl_num\n",
    "\n",
    "def curr_str_to_int(cur_str, symbol='$'):\n",
    "    '''Convert a currency string-formatted number into a float.'''\n",
    "\n",
    "    num_strs = ['thousand', 'million', 'billion', 'trillion']\n",
    "    str_num_1 = None\n",
    "    try:\n",
    "        if not cur_str[0].isdigit():\n",
    "            symbol = cur_str[0]\n",
    "        for x in num_strs:\n",
    "            if x in cur_str.lower():\n",
    "                str_num_1 = cur_str.lower().replace(x, '').replace(',','').replace(symbol,'')\n",
    "                # str_num_1 = [cur_str.replace(x, '') for x in num_strs if x in cur_str.lower()]\n",
    "        if not str_num_1:\n",
    "            str_num_1 = cur_str.replace('M', '').replace('B', '').replace('T', '').replace(',','').replace(symbol,'')\n",
    "        if 'm' in cur_str.lower():\n",
    "            fl_num = float(str_num_1) * 1000000\n",
    "        elif 'b' in cur_str.lower():\n",
    "            fl_num = float(str_num_1) * 1000000000\n",
    "        elif 'thousand' in cur_str.lower():\n",
    "            fl_num = float(str_num_1) * 1000\n",
    "        elif ('T' in cur_str) or ('trillion' in cur_str.lower()):\n",
    "            fl_num = float(str_num_1) * 1000000000000\n",
    "        elif [i.isdigit() for i in str_num_1]:\n",
    "            fl_num = float(str_num_1)\n",
    "        else:\n",
    "            fl_num = None\n",
    "        # print (\"${0:,.2f}\".format(fl_num))\n",
    "    except:\n",
    "        fl_num = None\n",
    "        print (fl_num)\n",
    "    return fl_num"
   ]
  },
  {
   "cell_type": "code",
   "execution_count": 32,
   "metadata": {},
   "outputs": [
    {
     "name": "stdout",
     "output_type": "stream",
     "text": [
      "39.00\n"
     ]
    }
   ],
   "source": [
    "# cur_str = '2.46 Trillion'\n",
    "# cur_str = '7.59M'\n",
    "# cur_str = 'N/A'\n",
    "# cur_str = '¥86.13B'\n",
    "cur_str = '$39.00'\n",
    "\n",
    "fl_num = curr_str_to_float(cur_str, symbol='$')\n",
    "print (\"{0:,.2f}\".format(fl_num))"
   ]
  },
  {
   "cell_type": "code",
   "execution_count": 14,
   "metadata": {},
   "outputs": [
    {
     "name": "stdout",
     "output_type": "stream",
     "text": [
      "3\n",
      "9\n",
      "0\n",
      "0\n",
      "39.00\n"
     ]
    }
   ],
   "source": [
    "cur_str = '39.00'\n",
    "\n",
    "for i in cur_str:\n",
    "    if i.isdigit():\n",
    "        print (i)\n",
    "\n",
    "if [i.isdigit() for i in cur_str]:\n",
    "    print (cur_str)\n",
    "# if [cur_str[i].isdigit() for i in cur_str]:\n",
    "#     print (cur_str)"
   ]
  },
  {
   "cell_type": "code",
   "execution_count": 4,
   "metadata": {},
   "outputs": [
    {
     "name": "stdout",
     "output_type": "stream",
     "text": [
      "¥\n"
     ]
    }
   ],
   "source": [
    "if not cur_str[0].isdigit():\n",
    "    print (cur_str[0])"
   ]
  },
  {
   "cell_type": "code",
   "execution_count": 30,
   "metadata": {},
   "outputs": [
    {
     "name": "stdout",
     "output_type": "stream",
     "text": [
      "<class 'float'>\n"
     ]
    }
   ],
   "source": [
    "# cur_str = '$7.59M'\n",
    "\n",
    "iteg = curr_str_to_int(cur_str)\n",
    "print (type(iteg))"
   ]
  },
  {
   "cell_type": "code",
   "execution_count": null,
   "metadata": {},
   "outputs": [],
   "source": [
    "import pandas as pd"
   ]
  },
  {
   "cell_type": "code",
   "execution_count": null,
   "metadata": {},
   "outputs": [],
   "source": [
    "fx_codes = pd.read_csv('csv_files/ISO_4217_FX_Codes.csv')\n",
    "fx_codes"
   ]
  },
  {
   "cell_type": "code",
   "execution_count": null,
   "metadata": {},
   "outputs": [],
   "source": [
    "# fx_codes['Entity'][:270] = fx_codes['Entity'][:270].str.lower().str.title()\n",
    "# fx_codes['Entity'][:270] = fx_codes['Entity'][:270].str.replace('Of', 'of').str.replace('And ', 'and ')\n",
    "# fx_codes"
   ]
  },
  {
   "cell_type": "code",
   "execution_count": null,
   "metadata": {},
   "outputs": [],
   "source": [
    "# fx_codes.tail(20)\n",
    "# fx_codes = fx_codes.drop(columns='Unnamed: 0')"
   ]
  },
  {
   "cell_type": "code",
   "execution_count": null,
   "metadata": {},
   "outputs": [],
   "source": [
    "# fx_codes.to_csv('csv_files/ISO_4217_FX_Codes.csv', index=False)"
   ]
  },
  {
   "cell_type": "code",
   "execution_count": null,
   "metadata": {},
   "outputs": [],
   "source": [
    "fx_codes.tail(40)"
   ]
  },
  {
   "cell_type": "code",
   "execution_count": null,
   "metadata": {},
   "outputs": [],
   "source": [
    "country = 'United States'\n",
    "\n",
    "entity = fx_codes.loc[fx_codes['Entity'].str.contains(country, regex=False)]\n",
    "entity"
   ]
  },
  {
   "cell_type": "code",
   "execution_count": null,
   "metadata": {},
   "outputs": [],
   "source": [
    "for index, row in entity.iterrows():\n",
    "    # print (index)\n",
    "    new_currency = entity['Currency'][index]\n",
    "    print (new_currency)\n",
    "    new_ticker = entity['Ticker'][index]\n",
    "    print (new_ticker)\n",
    "    ISO_4217 = entity['ISO_4217'][index]\n",
    "    print (ISO_4217)\n",
    "    minor_unit = entity['Minor unit'][index]\n",
    "    print (minor_unit)\n",
    "    fund = entity['Fund'][index]\n",
    "    print (fund)\n",
    "    description = entity['Description'][index]\n",
    "    print (description)"
   ]
  },
  {
   "cell_type": "code",
   "execution_count": null,
   "metadata": {},
   "outputs": [],
   "source": [
    "countries = pd.read_csv('csv_files/All_countries.csv')\n",
    "countries.head()"
   ]
  },
  {
   "cell_type": "code",
   "execution_count": null,
   "metadata": {},
   "outputs": [],
   "source": [
    "africa = pd.read_csv('csv_files/Africa.csv')\n",
    "africa.head()"
   ]
  },
  {
   "cell_type": "code",
   "execution_count": null,
   "metadata": {},
   "outputs": [],
   "source": [
    "asia = pd.read_csv('csv_files/Asia.csv')\n",
    "asia.head()"
   ]
  },
  {
   "cell_type": "code",
   "execution_count": null,
   "metadata": {},
   "outputs": [],
   "source": [
    "europe = pd.read_csv('csv_files/Europe.csv')\n",
    "europe.head()"
   ]
  },
  {
   "cell_type": "code",
   "execution_count": null,
   "metadata": {},
   "outputs": [],
   "source": [
    "north_america = pd.read_csv('csv_files/North_America.csv')\n",
    "north_america.head()"
   ]
  },
  {
   "cell_type": "code",
   "execution_count": null,
   "metadata": {},
   "outputs": [],
   "source": [
    "oceania = pd.read_csv('csv_files/Oceania.csv')\n",
    "oceania.head()"
   ]
  },
  {
   "cell_type": "code",
   "execution_count": null,
   "metadata": {},
   "outputs": [],
   "source": [
    "south_america = pd.read_csv('csv_files/South_America.csv')\n",
    "south_america.head()"
   ]
  },
  {
   "cell_type": "code",
   "execution_count": null,
   "metadata": {},
   "outputs": [],
   "source": [
    "North_American_territories = pd.read_csv('csv_files/North_American_territories.csv')\n",
    "North_American_territories.head()"
   ]
  },
  {
   "cell_type": "code",
   "execution_count": null,
   "metadata": {},
   "outputs": [],
   "source": [
    "Oceania_territories = pd.read_csv('csv_files/Oceania_territories.csv')\n",
    "Oceania_territories.head()"
   ]
  },
  {
   "cell_type": "code",
   "execution_count": null,
   "metadata": {},
   "outputs": [],
   "source": [
    "South_American_territories = pd.read_csv('csv_files/South_American_territories.csv')\n",
    "South_American_territories.head()"
   ]
  },
  {
   "cell_type": "code",
   "execution_count": null,
   "metadata": {},
   "outputs": [],
   "source": [
    "import numpy as np"
   ]
  },
  {
   "cell_type": "code",
   "execution_count": null,
   "metadata": {},
   "outputs": [],
   "source": [
    "countries['Continent'] = np.where(countries['Country'].isin(africa['Country']), 'Africa', '')\n",
    "countries['Continent'] = np.where(countries['Country'].isin(asia['Country']), 'Asia', countries['Continent'])\n",
    "countries['Continent'] = np.where(countries['Country'].isin(europe['Country']), 'Europe', countries['Continent'])\n",
    "countries['Continent'] = np.where(countries['Country'].isin(north_america['Country']), 'North America', countries['Continent'])\n",
    "countries['Continent'] = np.where(countries['Country'].isin(south_america['Country']), 'South America', countries['Continent'])\n",
    "countries['Continent'] = np.where(countries['Country'].isin(North_American_territories['Territory']), 'North America', countries['Continent'])\n",
    "countries['Continent'] = np.where(countries['Country'].isin(South_American_territories['Territory']), 'South America', countries['Continent'])\n",
    "countries['Continent'] = np.where(countries['Country'].isin(Oceania_territories['Territory']), 'Oceania', countries['Continent'])\n",
    "countries"
   ]
  },
  {
   "cell_type": "code",
   "execution_count": null,
   "metadata": {},
   "outputs": [],
   "source": [
    "countries['Continent'].value_counts()"
   ]
  },
  {
   "cell_type": "code",
   "execution_count": null,
   "metadata": {},
   "outputs": [],
   "source": [
    "# countries.to_csv('csv_files/Country_data.csv', index=False)"
   ]
  },
  {
   "cell_type": "code",
   "execution_count": null,
   "metadata": {},
   "outputs": [],
   "source": [
    "countries = pd.read_csv('csv_files/Country_data.csv')\n",
    "countries.head()"
   ]
  },
  {
   "cell_type": "code",
   "execution_count": null,
   "metadata": {},
   "outputs": [],
   "source": [
    "for index, row in North_American_territories.iterrows():\n",
    "    countries['Territory'] = np.where(countries['Country'].str.contains(North_American_territories['Territory'][index]), True, False)\n",
    "    countries['Territory_of'] = np.where(countries['Country'].str.contains(North_American_territories['Territory'][index]), North_American_territories['Country'][index], '')\n",
    "countries['Territory'] = np.where(countries['Country'].isin(North_American_territories['Territory']), True, False)\n",
    "countries['Territory_of'] = np.where(countries['Country'].isin(North_American_territories['Territory']), North_American_territories['Country'][index], countries['Territory_of'])\n",
    "\n",
    "countries['Territory'].value_counts()"
   ]
  },
  {
   "cell_type": "code",
   "execution_count": null,
   "metadata": {},
   "outputs": [],
   "source": [
    "for index, row in South_American_territories.iterrows():\n",
    "    countries['Territory'] = np.where(countries['Country'].str.contains(South_American_territories['Territory'][index]), True, countries['Territory'])\n",
    "    countries['Territory_of'] = np.where(countries['Country'].str.contains(South_American_territories['Territory'][index]), South_American_territories['Country'][index], '')\n",
    "countries['Territory'] = np.where(countries['Country'].isin(South_American_territories['Territory']), True, countries['Territory'])\n",
    "countries['Territory_of'] = np.where(countries['Country'].isin(South_American_territories['Territory']), South_American_territories['Country'][index], countries['Territory_of'])\n",
    "\n",
    "countries['Territory'].value_counts()"
   ]
  },
  {
   "cell_type": "code",
   "execution_count": null,
   "metadata": {},
   "outputs": [],
   "source": [
    "for index, row in Oceania_territories.iterrows():\n",
    "    countries['Territory'] = np.where(countries['Country'].str.contains(Oceania_territories['Territory'][index]), True, countries['Territory'])\n",
    "    countries['Territory_of'] = np.where(countries['Country'].str.contains(Oceania_territories['Territory'][index]), Oceania_territories['Country'][index], '')\n",
    "countries['Territory'] = np.where(countries['Country'].isin(Oceania_territories['Territory']), True, countries['Territory'])\n",
    "countries['Territory_of'] = np.where(countries['Country'].isin(Oceania_territories['Territory']), Oceania_territories['Country'][index], countries['Territory_of'])\n",
    "\n",
    "countries['Territory'].value_counts()"
   ]
  },
  {
   "cell_type": "code",
   "execution_count": null,
   "metadata": {},
   "outputs": [],
   "source": [
    "countries"
   ]
  },
  {
   "cell_type": "code",
   "execution_count": null,
   "metadata": {},
   "outputs": [],
   "source": [
    "regions = pd.read_csv('csv_files/regions.csv')\n",
    "regions"
   ]
  },
  {
   "cell_type": "code",
   "execution_count": null,
   "metadata": {},
   "outputs": [],
   "source": [
    "countries['Region'] = np.where(countries['ISO_3166'].isin(regions['ISO_3166']), regions['Region'], '')\n",
    "countries\n",
    "# countries['Region'].value_counts()\n",
    "# countries.loc[countries['Region'] == '']"
   ]
  },
  {
   "cell_type": "code",
   "execution_count": null,
   "metadata": {},
   "outputs": [],
   "source": [
    "eu = pd.read_csv('csv_files/EU.csv')\n",
    "eu.head(8)"
   ]
  },
  {
   "cell_type": "code",
   "execution_count": null,
   "metadata": {},
   "outputs": [],
   "source": [
    "asean = pd.read_csv('csv_files/ASEAN.csv')\n",
    "asean.head()"
   ]
  },
  {
   "cell_type": "code",
   "execution_count": null,
   "metadata": {},
   "outputs": [],
   "source": [
    "g10 = pd.read_csv('csv_files/G10_countries.csv')\n",
    "g10.head()"
   ]
  },
  {
   "cell_type": "code",
   "execution_count": null,
   "metadata": {},
   "outputs": [],
   "source": [
    "g20 = pd.read_csv('csv_files/G20_countries.csv')\n",
    "g20 = g20.drop_duplicates()\n",
    "print (g20.count())\n",
    "g20.head()"
   ]
  },
  {
   "cell_type": "code",
   "execution_count": null,
   "metadata": {},
   "outputs": [],
   "source": [
    "em = pd.read_csv('csv_files/EM_countries.csv')\n",
    "em.head()"
   ]
  },
  {
   "cell_type": "code",
   "execution_count": null,
   "metadata": {},
   "outputs": [],
   "source": [
    "countries = pd.read_csv('csv_files/Country_data.csv')\n",
    "countries.head()"
   ]
  },
  {
   "cell_type": "code",
   "execution_count": null,
   "metadata": {},
   "outputs": [],
   "source": [
    "for index, row in eu.iterrows():\n",
    "    countries['Econ_Group'] = np.where(countries['Country'].str.contains(eu['Country'][index]), 'EU', '')\n",
    "\n",
    "countries['Econ_Group'] = np.where(countries['Country'].isin(eu['Country']), 'EU', countries['Econ_Group'])\n",
    "countries['Econ_Group'].value_counts()\n",
    "# countries.loc[countries['Econ_Group'] == 'EU']"
   ]
  },
  {
   "cell_type": "code",
   "execution_count": null,
   "metadata": {},
   "outputs": [],
   "source": [
    "for index, row in asean.iterrows():\n",
    "    countries['Econ_Group'] = np.where(countries['Country'].str.contains(asean['Country'][index]), 'ASEAN', countries['Econ_Group'])\n",
    "\n",
    "countries['Econ_Group'] = np.where(countries['Country'].isin(asean['Country']), 'ASEAN', countries['Econ_Group'])\n",
    "print(countries['Econ_Group'].value_counts())\n",
    "countries.loc[countries['Econ_Group'] == 'ASEAN']"
   ]
  },
  {
   "cell_type": "code",
   "execution_count": null,
   "metadata": {},
   "outputs": [],
   "source": [
    "type(countries['Econ_Group'][10])"
   ]
  },
  {
   "cell_type": "code",
   "execution_count": null,
   "metadata": {},
   "outputs": [],
   "source": [
    "for index, row in g10.iterrows():\n",
    "    countries['G10'] = np.where(countries['Country'].str.contains(g10['Country'][index]), True, False)\n",
    "\n",
    "countries['G10'] = np.where(countries['Country'].isin(g10['Country']), True, countries['G10'])\n",
    "\n",
    "countries['G10'] = np.where(countries['Country'].astype(str) == 'United States Minor Outlying Islands', False, countries['G10'])\n",
    "print(countries['G10'].value_counts())\n",
    "countries.loc[countries['G10'] == True]"
   ]
  },
  {
   "cell_type": "code",
   "execution_count": null,
   "metadata": {},
   "outputs": [],
   "source": [
    "for index, row in g20.iterrows():\n",
    "    countries['G20'] = np.where(countries['Country'].str.contains(g20['Country'][index]), True, False)\n",
    "\n",
    "countries['G20'] = np.where(countries['Country'].isin(g20['Country']), True, countries['G20'])\n",
    "\n",
    "countries['G20'] = np.where(countries['Country'].astype(str) == 'United States Minor Outlying Islands', False, countries['G20'])\n",
    "print(countries['G20'].value_counts())\n",
    "# countries.loc[countries['G20'] == True]"
   ]
  },
  {
   "cell_type": "code",
   "execution_count": null,
   "metadata": {},
   "outputs": [],
   "source": [
    "countries = pd.read_csv('csv_files/Country_data.csv')\n",
    "countries = countries.iloc[:,:9]\n",
    "countries\n",
    "\n",
    "em = pd.read_csv('csv_files/EM_countries.csv')\n",
    "em.tail()\n",
    "\n",
    "em_categories = []\n",
    "for col in em.columns:\n",
    "    em_categories.append(col)\n",
    "em_categories\n",
    "\n",
    "for cat in em_categories:\n",
    "    countries[cat] = False\n",
    "    for index, value in em[cat].iteritems():\n",
    "        for c_index, c_value in countries.iterrows():\n",
    "            # countries['IMF EM_1'][c_index] = np.where(countries['Country'][c_index].__contains__(em['IMF EM'][index]), True, countries['IMF EM_1'][c_index])\n",
    "            countries[cat][c_index] = np.where(countries['Country'][c_index].split(',')[0] in (em[cat][index]), True, countries[cat][c_index])\n",
    "\n",
    "countries"
   ]
  },
  {
   "cell_type": "code",
   "execution_count": null,
   "metadata": {},
   "outputs": [],
   "source": [
    "countries.loc[countries['Country'] == 'Niger', 'BRICS & Next Eleven'] = countries.loc[countries['Country'] == 'Niger', 'BRICS & Next Eleven'].replace(True, False)\n",
    "countries.loc[countries['Country'] == 'Niger', 'EM Bond Index'] = countries.loc[countries['Country'] == 'Niger', 'EM Bond Index'].replace(True, False)\n",
    "countries.loc[countries['Country'] == 'Niger', 'Cornell University EMI E20'] = countries.loc[countries['Country'] == 'Niger', 'Cornell University EMI E20'].replace(True, False)"
   ]
  },
  {
   "cell_type": "code",
   "execution_count": null,
   "metadata": {},
   "outputs": [],
   "source": [
    "for cat in em_categories:\n",
    "    print(countries[cat].value_counts())\n",
    "    countries.loc[countries[cat] == True]\n",
    "\n",
    "for cat in em_categories:\n",
    "    print(em[cat].replace(r'^\\s*$', np.nan, regex=True).count())"
   ]
  },
  {
   "cell_type": "code",
   "execution_count": null,
   "metadata": {},
   "outputs": [],
   "source": [
    "# countries.loc[countries['BRICS & Next Eleven'] == True]\n",
    "# countries.loc[countries['EM Bond Index'] == True]\n",
    "# countries.loc[countries['Cornell University EMI E20'] == True]\n",
    "\n",
    "# countries.to_csv('csv_files/Country_data.csv', index=False)"
   ]
  },
  {
   "cell_type": "code",
   "execution_count": null,
   "metadata": {},
   "outputs": [],
   "source": [
    "# from ast import literal_eval\n",
    "# literal_eval('[1.23, 2.34]')"
   ]
  },
  {
   "cell_type": "code",
   "execution_count": null,
   "metadata": {},
   "outputs": [],
   "source": [
    "# countries.to_csv('csv_files/Country_data.csv', index=False)"
   ]
  },
  {
   "cell_type": "code",
   "execution_count": null,
   "metadata": {},
   "outputs": [],
   "source": [
    "import pandas as pd\n",
    "import numpy as np"
   ]
  },
  {
   "cell_type": "code",
   "execution_count": null,
   "metadata": {},
   "outputs": [],
   "source": [
    "countries = pd.read_csv('csv_files/Country_data.csv')\n",
    "countries.head()"
   ]
  },
  {
   "cell_type": "code",
   "execution_count": null,
   "metadata": {},
   "outputs": [],
   "source": [
    "for i in ['G10', 'G20']:\n",
    "    em_categories.append(i)\n",
    "em_categories"
   ]
  },
  {
   "cell_type": "code",
   "execution_count": null,
   "metadata": {},
   "outputs": [],
   "source": [
    "countries['Geopol_group'] = \"\"\n",
    "for index, row in countries.iterrows():\n",
    "    # countries['Geopol_group'][index] = []\n",
    "    # for label, content in countries.items():\n",
    "    for col in countries[em_categories]:\n",
    "        colserObj = countries[col]\n",
    "        countries[f'{col}_1'] = np.where(colserObj.values == True, col, '')"
   ]
  },
  {
   "cell_type": "code",
   "execution_count": null,
   "metadata": {},
   "outputs": [],
   "source": [
    "countries.iloc[100:,20:]"
   ]
  },
  {
   "cell_type": "code",
   "execution_count": null,
   "metadata": {},
   "outputs": [],
   "source": [
    "countries['Geopol_group'] = countries[countries.columns[20:]].apply(lambda x: ','.join(x.dropna().astype(str)), axis=1)\n",
    "countries['Geopol_group']"
   ]
  },
  {
   "cell_type": "code",
   "execution_count": null,
   "metadata": {},
   "outputs": [],
   "source": [
    "em_categories_1 = []\n",
    "for col in countries[em_categories]:\n",
    "    em_categories_1.append(f'{col}_1')\n",
    "em_categories_1"
   ]
  },
  {
   "cell_type": "code",
   "execution_count": null,
   "metadata": {},
   "outputs": [],
   "source": [
    "countries_1 = countries.drop(columns=em_categories).drop(columns=em_categories_1)\n",
    "countries_1"
   ]
  },
  {
   "cell_type": "code",
   "execution_count": null,
   "metadata": {},
   "outputs": [],
   "source": [
    "countries_1['Geopol_group'] = countries_1['Geopol_group'].str.strip(',').str.replace(',,,,,,,', ',').str.replace(',,,,,,', ',').str.replace(',,,,,', ',').str.replace(',,,,', ',').str.replace(',,,', ',').str.replace(',,', ',')\n",
    "countries_1"
   ]
  },
  {
   "cell_type": "code",
   "execution_count": null,
   "metadata": {},
   "outputs": [],
   "source": [
    "# countries_1['Geopol_group'].value_counts()"
   ]
  },
  {
   "cell_type": "code",
   "execution_count": null,
   "metadata": {},
   "outputs": [],
   "source": [
    "# countries_1.to_csv('csv_files/country_dataset.csv', index=False)"
   ]
  },
  {
   "cell_type": "markdown",
   "metadata": {},
   "source": [
    "## Code for Pipeline"
   ]
  },
  {
   "cell_type": "code",
   "execution_count": 2,
   "metadata": {},
   "outputs": [],
   "source": [
    "import pandas as pd\n",
    "import numpy as np\n",
    "from fuzzywuzzy import process, fuzz"
   ]
  },
  {
   "cell_type": "code",
   "execution_count": 3,
   "metadata": {},
   "outputs": [],
   "source": [
    "countries_df = pd.read_csv('csv_files/country_dataset.csv')"
   ]
  },
  {
   "cell_type": "code",
   "execution_count": 4,
   "metadata": {},
   "outputs": [
    {
     "data": {
      "text/html": [
       "<div>\n",
       "<style scoped>\n",
       "    .dataframe tbody tr th:only-of-type {\n",
       "        vertical-align: middle;\n",
       "    }\n",
       "\n",
       "    .dataframe tbody tr th {\n",
       "        vertical-align: top;\n",
       "    }\n",
       "\n",
       "    .dataframe thead th {\n",
       "        text-align: right;\n",
       "    }\n",
       "</style>\n",
       "<table border=\"1\" class=\"dataframe\">\n",
       "  <thead>\n",
       "    <tr style=\"text-align: right;\">\n",
       "      <th></th>\n",
       "      <th>Country</th>\n",
       "      <th>ISO_3166</th>\n",
       "      <th>Continent</th>\n",
       "      <th>Territory</th>\n",
       "      <th>Territory_of</th>\n",
       "      <th>Region</th>\n",
       "      <th>Econ_Group</th>\n",
       "      <th>Geopol_group</th>\n",
       "    </tr>\n",
       "  </thead>\n",
       "  <tbody>\n",
       "    <tr>\n",
       "      <th>182</th>\n",
       "      <td>Russia</td>\n",
       "      <td>RU</td>\n",
       "      <td>Europe</td>\n",
       "      <td>False</td>\n",
       "      <td>NaN</td>\n",
       "      <td>EMEA</td>\n",
       "      <td>NaN</td>\n",
       "      <td>IMF EM,BRICS &amp; Next Eleven,FTSE EM,MSCI EM,S&amp;P...</td>\n",
       "    </tr>\n",
       "  </tbody>\n",
       "</table>\n",
       "</div>"
      ],
      "text/plain": [
       "    Country ISO_3166 Continent  Territory Territory_of Region Econ_Group  \\\n",
       "182  Russia       RU    Europe      False          NaN   EMEA        NaN   \n",
       "\n",
       "                                          Geopol_group  \n",
       "182  IMF EM,BRICS & Next Eleven,FTSE EM,MSCI EM,S&P...  "
      ]
     },
     "execution_count": 4,
     "metadata": {},
     "output_type": "execute_result"
    }
   ],
   "source": [
    "# country = 'U.S.'\n",
    "# country = 'United States'\n",
    "# country = 'Gurmeny'\n",
    "country = 'Russia'\n",
    "# country_index = pd.Series(dtype='object')\n",
    "country_row = pd.Series(dtype='object')\n",
    "country_str = country.replace('.', '')\n",
    "if len(country_str) < 5:\n",
    "    country_row = countries_df.loc[countries_df['ISO_3166'].astype(str) == (country_str)]\n",
    "if len(country_row) == 0:\n",
    "    country_row = countries_df.loc[countries_df['Country'].str.contains(country)]\n",
    "    country_row\n",
    "\n",
    "country_row"
   ]
  },
  {
   "cell_type": "code",
   "execution_count": null,
   "metadata": {},
   "outputs": [],
   "source": [
    "# https://www.datacamp.com/community/tutorials/fuzzy-string-python\n",
    "\n",
    "if len(country_row) > 1:\n",
    "    # Ratios = process.extract(country,country_row['Country'])\n",
    "    # print(Ratios)\n",
    "    highest = process.extractOne(country,country_row['Country'])\n",
    "    # print(highest)\n",
    "    country_row = country_row.loc[country_row['Country'].str.contains(highest[0])]\n",
    "country_row"
   ]
  },
  {
   "cell_type": "code",
   "execution_count": null,
   "metadata": {},
   "outputs": [],
   "source": [
    "if len(country_row) == 0:\n",
    "    # highest = process.extractOne(country,countries_df['Country']) # scorer=fuzz.token_set_ratio\n",
    "    highest = process.extractOne(country,countries_df['Country'], scorer=fuzz.token_set_ratio)\n",
    "    print(\"WARNING : Using fuzzy logic to predict country:\", highest[0])\n",
    "    country_row = countries_df.loc[countries_df['Country'].str.contains(highest[0])]\n",
    "country_row"
   ]
  },
  {
   "cell_type": "code",
   "execution_count": null,
   "metadata": {},
   "outputs": [],
   "source": [
    "ISO_3166 = country_row['ISO_3166'].values[0]\n",
    "ISO_3166\n",
    "Continent = country_row['Continent'].values[0]\n",
    "Continent\n",
    "Territory = country_row['Territory'].values[0]\n",
    "Territory\n",
    "Territory_of = country_row['Territory_of'].values[0]\n",
    "Territory_of\n",
    "Region = country_row['Region'].values[0]\n",
    "Region\n",
    "Econ_Group = country_row['Econ_Group'].values[0]\n",
    "Econ_Group\n",
    "Geopol_group = country_row['Geopol_group'].values[0]\n",
    "Geopol_group"
   ]
  },
  {
   "cell_type": "markdown",
   "metadata": {},
   "source": [
    "## Industry Data"
   ]
  },
  {
   "cell_type": "code",
   "execution_count": null,
   "metadata": {},
   "outputs": [],
   "source": [
    "NAICS= pd.read_excel('csv_files/2017_NAICS_Descriptions.xlsx', dtype={'Description': int, 'Title': str, 'Description': str, 'Sector': str})\n",
    "NAICS"
   ]
  },
  {
   "cell_type": "code",
   "execution_count": null,
   "metadata": {},
   "outputs": [],
   "source": [
    "NAICS['Title'] = NAICS['Title'].str.rstrip().str.rstrip('T')\n",
    "NAICS"
   ]
  },
  {
   "cell_type": "code",
   "execution_count": null,
   "metadata": {},
   "outputs": [],
   "source": [
    "sectors = NAICS.loc[NAICS['Description'].str.strip().str.startswith('The Sector as a Whole', na=False)]\n",
    "sectors = sectors.drop(columns='Sector')\n",
    "sectors['Description'] = sectors['Description'].str.replace('The Sector as a Whole\\n\\n', '').str.strip()\n",
    "sectors"
   ]
  },
  {
   "cell_type": "code",
   "execution_count": null,
   "metadata": {},
   "outputs": [],
   "source": [
    "# sectors.to_csv('csv_files/NAICS17_sectors.csv', index=False)"
   ]
  },
  {
   "cell_type": "code",
   "execution_count": null,
   "metadata": {},
   "outputs": [],
   "source": [
    "NAICS_desc = pd.read_excel('csv_files/2017_NAICS_Index_File.xlsx')\n",
    "NAICS_desc"
   ]
  },
  {
   "cell_type": "code",
   "execution_count": null,
   "metadata": {},
   "outputs": [],
   "source": [
    "no_descs = NAICS.loc[NAICS['Description'].str.strip().str.startswith('See industry description for', na=False)].copy()\n",
    "no_descs"
   ]
  },
  {
   "cell_type": "code",
   "execution_count": null,
   "metadata": {},
   "outputs": [],
   "source": [
    "import re"
   ]
  },
  {
   "cell_type": "code",
   "execution_count": null,
   "metadata": {},
   "outputs": [],
   "source": [
    "no_descs['desc_code'] = no_descs['Description'].astype(str).apply(lambda x: re.findall(r'\\d+', x))\n",
    "no_descs['desc_code'] = no_descs['desc_code'].str[0]\n",
    "no_descs"
   ]
  },
  {
   "cell_type": "code",
   "execution_count": null,
   "metadata": {},
   "outputs": [],
   "source": [
    "NAICS_desc = NAICS_desc.groupby(['NAICS17'])['INDEX ITEM DESCRIPTION'].apply(','.join).reset_index()\n",
    "NAICS_desc"
   ]
  },
  {
   "cell_type": "code",
   "execution_count": null,
   "metadata": {},
   "outputs": [],
   "source": [
    "NAICS_desc = NAICS_desc.loc[NAICS_desc['NAICS17'] != '******']\n",
    "NAICS_desc = NAICS_desc.rename(columns= {'NAICS17': 'desc_code'})\n",
    "NAICS_desc['INDEX ITEM DESCRIPTION'] = NAICS_desc['INDEX ITEM DESCRIPTION'].astype(str)\n",
    "NAICS_desc.tail()"
   ]
  },
  {
   "cell_type": "code",
   "execution_count": null,
   "metadata": {},
   "outputs": [],
   "source": [
    "no_descs.reset_index(inplace=True, drop=True)\n",
    "# no_descs = no_descs.drop(columns = ['level_0', 'index'])\n",
    "no_descs"
   ]
  },
  {
   "cell_type": "code",
   "execution_count": null,
   "metadata": {},
   "outputs": [],
   "source": [
    "no_descs['desc_code'] = no_descs['desc_code'].astype(int)"
   ]
  },
  {
   "cell_type": "code",
   "execution_count": null,
   "metadata": {},
   "outputs": [],
   "source": [
    "merged_df = no_descs.merge(NAICS_desc, how='left', left_on='desc_code', right_on='desc_code')"
   ]
  },
  {
   "cell_type": "code",
   "execution_count": null,
   "metadata": {},
   "outputs": [],
   "source": [
    "merged_df"
   ]
  },
  {
   "cell_type": "code",
   "execution_count": null,
   "metadata": {},
   "outputs": [],
   "source": [
    "merged_df = merged_df.drop(columns='Description')\n",
    "merged_df = merged_df.rename(columns={'INDEX ITEM DESCRIPTION': 'Description'})\n",
    "merged_df"
   ]
  },
  {
   "cell_type": "code",
   "execution_count": null,
   "metadata": {},
   "outputs": [],
   "source": [
    "NAICS"
   ]
  },
  {
   "cell_type": "code",
   "execution_count": null,
   "metadata": {},
   "outputs": [],
   "source": [
    "industries = NAICS.loc[~NAICS['Description'].str.strip().str.startswith('The Sector as a Whole', na=False)]\n",
    "industries"
   ]
  },
  {
   "cell_type": "code",
   "execution_count": null,
   "metadata": {},
   "outputs": [],
   "source": [
    "merged_industries = industries.merge(merged_df, how='left', left_on=['Code', 'Title', 'Sector'], right_on=['Code', 'Title', 'Sector'])\n",
    "merged_industries "
   ]
  },
  {
   "cell_type": "code",
   "execution_count": null,
   "metadata": {},
   "outputs": [],
   "source": [
    "print(type(merged_industries['Description_y'][5]))"
   ]
  },
  {
   "cell_type": "code",
   "execution_count": null,
   "metadata": {},
   "outputs": [],
   "source": [
    "merged_industries['Description'] = \"\"\n",
    "for index, value in merged_industries['Description_y'].iteritems():\n",
    "    merged_industries['Description'][index] = np.where(type(merged_industries['Description_y'][index]) is not type(float), merged_industries['Description_y'][index], merged_industries['Description_x'][index])\n",
    "merged_industries"
   ]
  },
  {
   "cell_type": "code",
   "execution_count": null,
   "metadata": {},
   "outputs": [],
   "source": [
    "merged_industries['Description'][1]"
   ]
  },
  {
   "cell_type": "code",
   "execution_count": null,
   "metadata": {},
   "outputs": [],
   "source": [
    "for index, value in merged_industries['Description_y'].iteritems():\n",
    "    merged_industries['Description'][index] = np.where(merged_industries['Description'][index] == 'nan', merged_industries['Description_x'][index], merged_industries['Description'][index])\n",
    "merged_industries"
   ]
  },
  {
   "cell_type": "code",
   "execution_count": null,
   "metadata": {},
   "outputs": [],
   "source": [
    "merged_industries = merged_industries.drop(columns=['Description_x', 'Description_y'])\n",
    "merged_industries"
   ]
  },
  {
   "cell_type": "code",
   "execution_count": null,
   "metadata": {},
   "outputs": [],
   "source": [
    "sectors = sectors.drop(columns='Description')\n",
    "sectors"
   ]
  },
  {
   "cell_type": "code",
   "execution_count": null,
   "metadata": {},
   "outputs": [],
   "source": [
    "merged_industries_2 = merged_industries.merge(sectors, how='left', left_on='Sector', right_on='Title')\n",
    "merged_industries_2"
   ]
  },
  {
   "cell_type": "code",
   "execution_count": null,
   "metadata": {},
   "outputs": [],
   "source": [
    "merged_industries_2 = merged_industries_2.drop(columns='Title_y')\n",
    "merged_industries_2 = merged_industries_2.rename(columns={'Code_x': 'NAICS_code', 'Title_x': 'Title', 'desc_code': 'NAICS_desc_code', 'Code_y': 'NAICS_sector_code'})\n",
    "merged_industries_2"
   ]
  },
  {
   "cell_type": "code",
   "execution_count": null,
   "metadata": {},
   "outputs": [],
   "source": [
    "merged_industries_2.to_csv('csv_files/2017_NAICS_industries.csv', index=False)"
   ]
  },
  {
   "cell_type": "code",
   "execution_count": null,
   "metadata": {},
   "outputs": [],
   "source": []
  },
  {
   "cell_type": "code",
   "execution_count": 10,
   "metadata": {},
   "outputs": [],
   "source": []
  },
  {
   "cell_type": "code",
   "execution_count": 11,
   "metadata": {},
   "outputs": [],
   "source": [
    "# name = \"United States Treasury 3-Year Note 0.250% Apr 15, 2023 (912828ZH65)\"\n",
    "# name = \"U.K. 1 Year Gilt (TMBMKGB-01Y)\"\n",
    "name = \"U.S. 1 Month Treasury Bill (TMUBMUSD01M)\""
   ]
  },
  {
   "cell_type": "code",
   "execution_count": 5,
   "metadata": {},
   "outputs": [],
   "source": [
    "import pandas as pd\n",
    "import numpy as np\n",
    "from fuzzywuzzy import process, fuzz\n",
    "\n",
    "def extract_bond_country(name):\n",
    "    countries_df = pd.read_csv('csv_files/country_dataset.csv')\n",
    "    name_str = name.strip().split()\n",
    "    if name_str[0] == 'U.K.':\n",
    "        country_name = 'United Kingdom'\n",
    "    elif name_str[0] == 'U.S.':\n",
    "        country_name = 'United States of America'\n",
    "    else:\n",
    "        test_str = name_str[0] +' '+ name_str[1]\n",
    "        print(test_str)\n",
    "        highest = process.extractOne(test_str,countries_df['Country'], scorer=fuzz.token_set_ratio)\n",
    "        print(highest[0])\n",
    "        country_name = countries_df.loc[countries_df['Country'].str.contains(highest[0])]['Country'].values[0]\n",
    "    return country_name"
   ]
  },
  {
   "cell_type": "code",
   "execution_count": 1,
   "metadata": {},
   "outputs": [],
   "source": [
    "import pandas as pd\n",
    "import numpy as np\n",
    "from fuzzywuzzy import process, fuzz\n",
    "\n",
    "from sqlalchemy import create_engine\n",
    "from sqlalchemy.orm import sessionmaker\n",
    "import logging\n",
    "import warnings\n",
    "warnings.filterwarnings('ignore')\n",
    "from TickerScrape.models import Currency, Country"
   ]
  },
  {
   "cell_type": "code",
   "execution_count": 2,
   "metadata": {},
   "outputs": [],
   "source": [
    "CONNECTION_STRING = 'sqlite:///sqlite_files/TickerScrape.db'\n",
    "\n",
    "def db_sesh(uri):\n",
    "    engine = create_engine(uri)\n",
    "    Session = sessionmaker(bind=engine)\n",
    "    # Session.configure(bind=engine)\n",
    "    logging.info(\"****_GET_Pipeline: database connected****\")\n",
    "\n",
    "    return Session"
   ]
  },
  {
   "cell_type": "code",
   "execution_count": 4,
   "metadata": {},
   "outputs": [
    {
     "name": "stdout",
     "output_type": "stream",
     "text": [
      "United States of America (The)\n",
      "                             Entity              Currency Ticker  ISO_4217  \\\n",
      "252  United States of America (The)             US Dollar    USD     840.0   \n",
      "253  United States of America (The)  US Dollar (Next day)    USN     997.0   \n",
      "\n",
      "     Minor_unit  Fund                                        Description  \n",
      "252         2.0   NaN                                                NaN  \n",
      "253         2.0  True   ”Next day“ funds are immediately available fo...  \n",
      "ISO_4217 840.0\n",
      "ISO_4217 997.0\n"
     ]
    }
   ],
   "source": [
    "country = Country()\n",
    "countr_name = \"United States\"\n",
    "exist_country = None\n",
    "\n",
    "Session = db_sesh(CONNECTION_STRING)\n",
    "\n",
    "with Session() as session:\n",
    "    if exist_country is None:\n",
    "        fx_codes = pd.read_csv('csv_files/ISO_4217_FX_Codes.csv')\n",
    "        entity = pd.Series(dtype='object')\n",
    "        # entity = fx_codes.loc[fx_codes['Entity'].str.contains(\n",
    "        #     countr_name, regex=False)]\n",
    "        highest = process.extractOne(countr_name,fx_codes['Entity'], scorer=fuzz.token_set_ratio)\n",
    "        print(highest[0])\n",
    "        entity = fx_codes.loc[fx_codes['Entity'].astype(str) == highest[0]]\n",
    "        print (entity)\n",
    "        if not entity.empty:\n",
    "            for index, row in entity.iterrows():\n",
    "                match_currency = entity['Currency'][index]\n",
    "                exist_currency = session.query(Currency).filter_by(\n",
    "                    name=match_currency).first()\n",
    "                if exist_currency is None:\n",
    "                    currency = Currency(name=match_currency)\n",
    "                    match_ticker = entity['Ticker'][index]\n",
    "                    if match_ticker:\n",
    "                        currency.ticker = match_ticker\n",
    "                    # if \"fx_symbol\" in item:\n",
    "                    #     currency.fx_symbol = item[\"fx_symbol\"]\n",
    "                    ISO_4217 = entity['ISO_4217'][index]\n",
    "                    if ISO_4217:\n",
    "                        print (\"ISO_4217\", ISO_4217)\n",
    "                        currency.ISO_4217 = ISO_4217\n",
    "                    minor_unit = entity['Minor_unit'][index]\n",
    "                    if minor_unit:\n",
    "                        currency.minor_unit = minor_unit\n",
    "                    fund = entity['Fund'][index]\n",
    "                    if fund == 'TRUE':\n",
    "                        fund = True\n",
    "                        currency.fund = fund\n",
    "                    description = entity['Description'][index]\n",
    "                    if description:\n",
    "                        currency.description = description\n",
    "                else:\n",
    "                    currency = exist_currency\n",
    "                if currency:\n",
    "                    country.currencies.append(currency)\n",
    "            session.commit()\n",
    "            session.close()"
   ]
  },
  {
   "cell_type": "code",
   "execution_count": 4,
   "metadata": {},
   "outputs": [
    {
     "data": {
      "text/html": [
       "<div>\n",
       "<style scoped>\n",
       "    .dataframe tbody tr th:only-of-type {\n",
       "        vertical-align: middle;\n",
       "    }\n",
       "\n",
       "    .dataframe tbody tr th {\n",
       "        vertical-align: top;\n",
       "    }\n",
       "\n",
       "    .dataframe thead th {\n",
       "        text-align: right;\n",
       "    }\n",
       "</style>\n",
       "<table border=\"1\" class=\"dataframe\">\n",
       "  <thead>\n",
       "    <tr style=\"text-align: right;\">\n",
       "      <th></th>\n",
       "      <th>Entity</th>\n",
       "      <th>Currency</th>\n",
       "      <th>Ticker</th>\n",
       "      <th>ISO_4217</th>\n",
       "      <th>Minor_unit</th>\n",
       "      <th>Fund</th>\n",
       "      <th>Description</th>\n",
       "    </tr>\n",
       "  </thead>\n",
       "  <tbody>\n",
       "    <tr>\n",
       "      <th>252</th>\n",
       "      <td>United States of America (The)</td>\n",
       "      <td>US Dollar</td>\n",
       "      <td>USD</td>\n",
       "      <td>840.0</td>\n",
       "      <td>2.0</td>\n",
       "      <td>NaN</td>\n",
       "      <td>NaN</td>\n",
       "    </tr>\n",
       "    <tr>\n",
       "      <th>253</th>\n",
       "      <td>United States of America (The)</td>\n",
       "      <td>US Dollar (Next day)</td>\n",
       "      <td>USN</td>\n",
       "      <td>997.0</td>\n",
       "      <td>2.0</td>\n",
       "      <td>True</td>\n",
       "      <td>”Next day“ funds are immediately available fo...</td>\n",
       "    </tr>\n",
       "  </tbody>\n",
       "</table>\n",
       "</div>"
      ],
      "text/plain": [
       "                             Entity              Currency Ticker  ISO_4217  \\\n",
       "252  United States of America (The)             US Dollar    USD     840.0   \n",
       "253  United States of America (The)  US Dollar (Next day)    USN     997.0   \n",
       "\n",
       "     Minor_unit  Fund                                        Description  \n",
       "252         2.0   NaN                                                NaN  \n",
       "253         2.0  True   ”Next day“ funds are immediately available fo...  "
      ]
     },
     "execution_count": 4,
     "metadata": {},
     "output_type": "execute_result"
    }
   ],
   "source": [
    "entity"
   ]
  },
  {
   "cell_type": "code",
   "execution_count": 1,
   "metadata": {},
   "outputs": [],
   "source": [
    "import pandas as pd\n",
    "import numpy as np\n",
    "from fuzzywuzzy import process, fuzz"
   ]
  },
  {
   "cell_type": "code",
   "execution_count": 168,
   "metadata": {},
   "outputs": [],
   "source": [
    "fx_codes = pd.read_csv('csv_files/ISO_4217_FX_Codes.csv')"
   ]
  },
  {
   "cell_type": "code",
   "execution_count": 169,
   "metadata": {},
   "outputs": [
    {
     "data": {
      "text/html": [
       "<div>\n",
       "<style scoped>\n",
       "    .dataframe tbody tr th:only-of-type {\n",
       "        vertical-align: middle;\n",
       "    }\n",
       "\n",
       "    .dataframe tbody tr th {\n",
       "        vertical-align: top;\n",
       "    }\n",
       "\n",
       "    .dataframe thead th {\n",
       "        text-align: right;\n",
       "    }\n",
       "</style>\n",
       "<table border=\"1\" class=\"dataframe\">\n",
       "  <thead>\n",
       "    <tr style=\"text-align: right;\">\n",
       "      <th></th>\n",
       "      <th>Entity</th>\n",
       "      <th>Currency</th>\n",
       "      <th>Ticker</th>\n",
       "      <th>ISO_4217</th>\n",
       "      <th>Minor_unit</th>\n",
       "      <th>Fund</th>\n",
       "      <th>Description</th>\n",
       "    </tr>\n",
       "  </thead>\n",
       "  <tbody>\n",
       "    <tr>\n",
       "      <th>0</th>\n",
       "      <td>Afghanistan</td>\n",
       "      <td>Afghani</td>\n",
       "      <td>AFN</td>\n",
       "      <td>971.0</td>\n",
       "      <td>2.0</td>\n",
       "      <td>NaN</td>\n",
       "      <td>NaN</td>\n",
       "    </tr>\n",
       "    <tr>\n",
       "      <th>1</th>\n",
       "      <td>Åland Islands</td>\n",
       "      <td>Euro</td>\n",
       "      <td>EUR</td>\n",
       "      <td>978.0</td>\n",
       "      <td>2.0</td>\n",
       "      <td>NaN</td>\n",
       "      <td>NaN</td>\n",
       "    </tr>\n",
       "    <tr>\n",
       "      <th>2</th>\n",
       "      <td>Albania</td>\n",
       "      <td>Lek</td>\n",
       "      <td>ALL</td>\n",
       "      <td>8.0</td>\n",
       "      <td>2.0</td>\n",
       "      <td>NaN</td>\n",
       "      <td>NaN</td>\n",
       "    </tr>\n",
       "    <tr>\n",
       "      <th>3</th>\n",
       "      <td>Algeria</td>\n",
       "      <td>Algerian Dinar</td>\n",
       "      <td>DZD</td>\n",
       "      <td>12.0</td>\n",
       "      <td>2.0</td>\n",
       "      <td>NaN</td>\n",
       "      <td>NaN</td>\n",
       "    </tr>\n",
       "    <tr>\n",
       "      <th>4</th>\n",
       "      <td>American Samoa</td>\n",
       "      <td>US Dollar</td>\n",
       "      <td>USD</td>\n",
       "      <td>840.0</td>\n",
       "      <td>2.0</td>\n",
       "      <td>NaN</td>\n",
       "      <td>NaN</td>\n",
       "    </tr>\n",
       "    <tr>\n",
       "      <th>...</th>\n",
       "      <td>...</td>\n",
       "      <td>...</td>\n",
       "      <td>...</td>\n",
       "      <td>...</td>\n",
       "      <td>...</td>\n",
       "      <td>...</td>\n",
       "      <td>...</td>\n",
       "    </tr>\n",
       "    <tr>\n",
       "      <th>274</th>\n",
       "      <td>ZZ07_No_Currency</td>\n",
       "      <td>The codes assigned for transactions where no c...</td>\n",
       "      <td>XXX</td>\n",
       "      <td>999.0</td>\n",
       "      <td>NaN</td>\n",
       "      <td>NaN</td>\n",
       "      <td>NaN</td>\n",
       "    </tr>\n",
       "    <tr>\n",
       "      <th>275</th>\n",
       "      <td>ZZ08_Gold</td>\n",
       "      <td>Gold</td>\n",
       "      <td>XAU</td>\n",
       "      <td>959.0</td>\n",
       "      <td>NaN</td>\n",
       "      <td>NaN</td>\n",
       "      <td>NaN</td>\n",
       "    </tr>\n",
       "    <tr>\n",
       "      <th>276</th>\n",
       "      <td>ZZ09_Palladium</td>\n",
       "      <td>Palladium</td>\n",
       "      <td>XPD</td>\n",
       "      <td>964.0</td>\n",
       "      <td>NaN</td>\n",
       "      <td>NaN</td>\n",
       "      <td>NaN</td>\n",
       "    </tr>\n",
       "    <tr>\n",
       "      <th>277</th>\n",
       "      <td>ZZ10_Platinum</td>\n",
       "      <td>Platinum</td>\n",
       "      <td>XPT</td>\n",
       "      <td>962.0</td>\n",
       "      <td>NaN</td>\n",
       "      <td>NaN</td>\n",
       "      <td>NaN</td>\n",
       "    </tr>\n",
       "    <tr>\n",
       "      <th>278</th>\n",
       "      <td>ZZ11_Silver</td>\n",
       "      <td>Silver</td>\n",
       "      <td>XAG</td>\n",
       "      <td>961.0</td>\n",
       "      <td>NaN</td>\n",
       "      <td>NaN</td>\n",
       "      <td>NaN</td>\n",
       "    </tr>\n",
       "  </tbody>\n",
       "</table>\n",
       "<p>279 rows × 7 columns</p>\n",
       "</div>"
      ],
      "text/plain": [
       "               Entity                                           Currency  \\\n",
       "0         Afghanistan                                            Afghani   \n",
       "1       Åland Islands                                               Euro   \n",
       "2             Albania                                                Lek   \n",
       "3             Algeria                                     Algerian Dinar   \n",
       "4      American Samoa                                          US Dollar   \n",
       "..                ...                                                ...   \n",
       "274  ZZ07_No_Currency  The codes assigned for transactions where no c...   \n",
       "275         ZZ08_Gold                                               Gold   \n",
       "276    ZZ09_Palladium                                          Palladium   \n",
       "277     ZZ10_Platinum                                           Platinum   \n",
       "278       ZZ11_Silver                                             Silver   \n",
       "\n",
       "    Ticker  ISO_4217  Minor_unit Fund Description  \n",
       "0      AFN     971.0         2.0  NaN         NaN  \n",
       "1      EUR     978.0         2.0  NaN         NaN  \n",
       "2      ALL       8.0         2.0  NaN         NaN  \n",
       "3      DZD      12.0         2.0  NaN         NaN  \n",
       "4      USD     840.0         2.0  NaN         NaN  \n",
       "..     ...       ...         ...  ...         ...  \n",
       "274    XXX     999.0         NaN  NaN         NaN  \n",
       "275    XAU     959.0         NaN  NaN         NaN  \n",
       "276    XPD     964.0         NaN  NaN         NaN  \n",
       "277    XPT     962.0         NaN  NaN         NaN  \n",
       "278    XAG     961.0         NaN  NaN         NaN  \n",
       "\n",
       "[279 rows x 7 columns]"
      ]
     },
     "execution_count": 169,
     "metadata": {},
     "output_type": "execute_result"
    }
   ],
   "source": [
    "fx_codes"
   ]
  },
  {
   "cell_type": "code",
   "execution_count": 170,
   "metadata": {},
   "outputs": [
    {
     "data": {
      "text/html": [
       "<div>\n",
       "<style scoped>\n",
       "    .dataframe tbody tr th:only-of-type {\n",
       "        vertical-align: middle;\n",
       "    }\n",
       "\n",
       "    .dataframe tbody tr th {\n",
       "        vertical-align: top;\n",
       "    }\n",
       "\n",
       "    .dataframe thead th {\n",
       "        text-align: right;\n",
       "    }\n",
       "</style>\n",
       "<table border=\"1\" class=\"dataframe\">\n",
       "  <thead>\n",
       "    <tr style=\"text-align: right;\">\n",
       "      <th></th>\n",
       "      <th>_code</th>\n",
       "      <th>_unicode-decimal</th>\n",
       "      <th>_unicode-hex</th>\n",
       "      <th>__text</th>\n",
       "      <th>symbol</th>\n",
       "    </tr>\n",
       "  </thead>\n",
       "  <tbody>\n",
       "    <tr>\n",
       "      <th>0</th>\n",
       "      <td>ALL</td>\n",
       "      <td>76, 101, 107</td>\n",
       "      <td>4c, 65, 6b</td>\n",
       "      <td>Albania Lek</td>\n",
       "      <td>NaN</td>\n",
       "    </tr>\n",
       "    <tr>\n",
       "      <th>1</th>\n",
       "      <td>AFN</td>\n",
       "      <td>1547</td>\n",
       "      <td>60b</td>\n",
       "      <td>Afghanistan Afghani</td>\n",
       "      <td>NaN</td>\n",
       "    </tr>\n",
       "    <tr>\n",
       "      <th>2</th>\n",
       "      <td>ARS</td>\n",
       "      <td>36</td>\n",
       "      <td>24</td>\n",
       "      <td>Argentina Peso</td>\n",
       "      <td>NaN</td>\n",
       "    </tr>\n",
       "    <tr>\n",
       "      <th>3</th>\n",
       "      <td>AWG</td>\n",
       "      <td>402</td>\n",
       "      <td>192</td>\n",
       "      <td>Aruba Guilder</td>\n",
       "      <td>NaN</td>\n",
       "    </tr>\n",
       "    <tr>\n",
       "      <th>4</th>\n",
       "      <td>AUD</td>\n",
       "      <td>36</td>\n",
       "      <td>24</td>\n",
       "      <td>Australia Dollar</td>\n",
       "      <td>NaN</td>\n",
       "    </tr>\n",
       "    <tr>\n",
       "      <th>...</th>\n",
       "      <td>...</td>\n",
       "      <td>...</td>\n",
       "      <td>...</td>\n",
       "      <td>...</td>\n",
       "      <td>...</td>\n",
       "    </tr>\n",
       "    <tr>\n",
       "      <th>108</th>\n",
       "      <td>UZS</td>\n",
       "      <td>1083, 1074</td>\n",
       "      <td>43b, 432</td>\n",
       "      <td>Uzbekistan Som</td>\n",
       "      <td>NaN</td>\n",
       "    </tr>\n",
       "    <tr>\n",
       "      <th>109</th>\n",
       "      <td>VEF</td>\n",
       "      <td>66, 115</td>\n",
       "      <td>42, 73</td>\n",
       "      <td>Venezuela Bolivar</td>\n",
       "      <td>NaN</td>\n",
       "    </tr>\n",
       "    <tr>\n",
       "      <th>110</th>\n",
       "      <td>VND</td>\n",
       "      <td>8363</td>\n",
       "      <td>20ab</td>\n",
       "      <td>Viet Nam Dong</td>\n",
       "      <td>NaN</td>\n",
       "    </tr>\n",
       "    <tr>\n",
       "      <th>111</th>\n",
       "      <td>YER</td>\n",
       "      <td>65020</td>\n",
       "      <td>fdfc</td>\n",
       "      <td>Yemen Rial</td>\n",
       "      <td>NaN</td>\n",
       "    </tr>\n",
       "    <tr>\n",
       "      <th>112</th>\n",
       "      <td>ZWD</td>\n",
       "      <td>90, 36</td>\n",
       "      <td>5a, 24</td>\n",
       "      <td>Zimbabwe Dollar</td>\n",
       "      <td>NaN</td>\n",
       "    </tr>\n",
       "  </tbody>\n",
       "</table>\n",
       "<p>113 rows × 5 columns</p>\n",
       "</div>"
      ],
      "text/plain": [
       "    _code _unicode-decimal _unicode-hex               __text  symbol\n",
       "0     ALL     76, 101, 107   4c, 65, 6b          Albania Lek     NaN\n",
       "1     AFN             1547          60b  Afghanistan Afghani     NaN\n",
       "2     ARS               36           24       Argentina Peso     NaN\n",
       "3     AWG              402          192        Aruba Guilder     NaN\n",
       "4     AUD               36           24     Australia Dollar     NaN\n",
       "..    ...              ...          ...                  ...     ...\n",
       "108   UZS       1083, 1074     43b, 432       Uzbekistan Som     NaN\n",
       "109   VEF          66, 115       42, 73    Venezuela Bolivar     NaN\n",
       "110   VND             8363         20ab        Viet Nam Dong     NaN\n",
       "111   YER            65020         fdfc           Yemen Rial     NaN\n",
       "112   ZWD           90, 36       5a, 24      Zimbabwe Dollar     NaN\n",
       "\n",
       "[113 rows x 5 columns]"
      ]
     },
     "execution_count": 170,
     "metadata": {},
     "output_type": "execute_result"
    }
   ],
   "source": [
    "fx_symbols = pd.read_csv(\"csv_files/currency-symbols.csv\")\n",
    "fx_symbols "
   ]
  },
  {
   "cell_type": "code",
   "execution_count": 171,
   "metadata": {},
   "outputs": [],
   "source": [
    "str_dec = \"8378\""
   ]
  },
  {
   "cell_type": "code",
   "execution_count": 172,
   "metadata": {},
   "outputs": [
    {
     "name": "stdout",
     "output_type": "stream",
     "text": [
      "['8378']\n",
      "₺\n"
     ]
    }
   ],
   "source": [
    "nums = str_dec.split(', ')\n",
    "print(nums)\n",
    "ascii = \"\".join(chr(int(x)) for x in nums)\n",
    "print(ascii)"
   ]
  },
  {
   "cell_type": "code",
   "execution_count": 177,
   "metadata": {},
   "outputs": [
    {
     "name": "stderr",
     "output_type": "stream",
     "text": [
      "/var/folders/_g/18qnvwy1001_g1m79rrlhjn00000gn/T/ipykernel_44217/523949612.py:9: SettingWithCopyWarning: \n",
      "A value is trying to be set on a copy of a slice from a DataFrame\n",
      "\n",
      "See the caveats in the documentation: https://pandas.pydata.org/pandas-docs/stable/user_guide/indexing.html#returning-a-view-versus-a-copy\n",
      "  fx_symbols['Symbol'][index] = ascii\n"
     ]
    }
   ],
   "source": [
    "for index, val in fx_symbols['_unicode-decimal'].iteritems():\n",
    "    try:\n",
    "        nums = str(val).split(', ')\n",
    "    except Exception as e:\n",
    "        print(f'error getting: {val} #{e}')\n",
    "    # print(nums)\n",
    "    ascii = \"\".join(chr(int(x)) for x in nums)\n",
    "    # print(ascii)\n",
    "    fx_symbols['Symbol'][index] = ascii"
   ]
  },
  {
   "cell_type": "code",
   "execution_count": 183,
   "metadata": {},
   "outputs": [],
   "source": [
    "# fx_symbols['Symbol'].value_counts()\n",
    "fx_symbols = fx_symbols.drop(columns='symbol')"
   ]
  },
  {
   "cell_type": "code",
   "execution_count": 185,
   "metadata": {},
   "outputs": [],
   "source": [
    "# fx_symbols.to_csv('csv_files/fx_symbols.csv', index=False)"
   ]
  },
  {
   "cell_type": "code",
   "execution_count": 184,
   "metadata": {},
   "outputs": [
    {
     "data": {
      "text/html": [
       "<div>\n",
       "<style scoped>\n",
       "    .dataframe tbody tr th:only-of-type {\n",
       "        vertical-align: middle;\n",
       "    }\n",
       "\n",
       "    .dataframe tbody tr th {\n",
       "        vertical-align: top;\n",
       "    }\n",
       "\n",
       "    .dataframe thead th {\n",
       "        text-align: right;\n",
       "    }\n",
       "</style>\n",
       "<table border=\"1\" class=\"dataframe\">\n",
       "  <thead>\n",
       "    <tr style=\"text-align: right;\">\n",
       "      <th></th>\n",
       "      <th>_code</th>\n",
       "      <th>_unicode-decimal</th>\n",
       "      <th>_unicode-hex</th>\n",
       "      <th>__text</th>\n",
       "      <th>Symbol</th>\n",
       "    </tr>\n",
       "  </thead>\n",
       "  <tbody>\n",
       "    <tr>\n",
       "      <th>0</th>\n",
       "      <td>ALL</td>\n",
       "      <td>76, 101, 107</td>\n",
       "      <td>4c, 65, 6b</td>\n",
       "      <td>Albania Lek</td>\n",
       "      <td>Lek</td>\n",
       "    </tr>\n",
       "    <tr>\n",
       "      <th>1</th>\n",
       "      <td>AFN</td>\n",
       "      <td>1547</td>\n",
       "      <td>60b</td>\n",
       "      <td>Afghanistan Afghani</td>\n",
       "      <td>؋</td>\n",
       "    </tr>\n",
       "    <tr>\n",
       "      <th>2</th>\n",
       "      <td>ARS</td>\n",
       "      <td>36</td>\n",
       "      <td>24</td>\n",
       "      <td>Argentina Peso</td>\n",
       "      <td>$</td>\n",
       "    </tr>\n",
       "    <tr>\n",
       "      <th>3</th>\n",
       "      <td>AWG</td>\n",
       "      <td>402</td>\n",
       "      <td>192</td>\n",
       "      <td>Aruba Guilder</td>\n",
       "      <td>ƒ</td>\n",
       "    </tr>\n",
       "    <tr>\n",
       "      <th>4</th>\n",
       "      <td>AUD</td>\n",
       "      <td>36</td>\n",
       "      <td>24</td>\n",
       "      <td>Australia Dollar</td>\n",
       "      <td>$</td>\n",
       "    </tr>\n",
       "    <tr>\n",
       "      <th>...</th>\n",
       "      <td>...</td>\n",
       "      <td>...</td>\n",
       "      <td>...</td>\n",
       "      <td>...</td>\n",
       "      <td>...</td>\n",
       "    </tr>\n",
       "    <tr>\n",
       "      <th>108</th>\n",
       "      <td>UZS</td>\n",
       "      <td>1083, 1074</td>\n",
       "      <td>43b, 432</td>\n",
       "      <td>Uzbekistan Som</td>\n",
       "      <td>лв</td>\n",
       "    </tr>\n",
       "    <tr>\n",
       "      <th>109</th>\n",
       "      <td>VEF</td>\n",
       "      <td>66, 115</td>\n",
       "      <td>42, 73</td>\n",
       "      <td>Venezuela Bolivar</td>\n",
       "      <td>Bs</td>\n",
       "    </tr>\n",
       "    <tr>\n",
       "      <th>110</th>\n",
       "      <td>VND</td>\n",
       "      <td>8363</td>\n",
       "      <td>20ab</td>\n",
       "      <td>Viet Nam Dong</td>\n",
       "      <td>₫</td>\n",
       "    </tr>\n",
       "    <tr>\n",
       "      <th>111</th>\n",
       "      <td>YER</td>\n",
       "      <td>65020</td>\n",
       "      <td>fdfc</td>\n",
       "      <td>Yemen Rial</td>\n",
       "      <td>﷼</td>\n",
       "    </tr>\n",
       "    <tr>\n",
       "      <th>112</th>\n",
       "      <td>ZWD</td>\n",
       "      <td>90, 36</td>\n",
       "      <td>5a, 24</td>\n",
       "      <td>Zimbabwe Dollar</td>\n",
       "      <td>Z$</td>\n",
       "    </tr>\n",
       "  </tbody>\n",
       "</table>\n",
       "<p>113 rows × 5 columns</p>\n",
       "</div>"
      ],
      "text/plain": [
       "    _code _unicode-decimal _unicode-hex               __text Symbol\n",
       "0     ALL     76, 101, 107   4c, 65, 6b          Albania Lek    Lek\n",
       "1     AFN             1547          60b  Afghanistan Afghani      ؋\n",
       "2     ARS               36           24       Argentina Peso      $\n",
       "3     AWG              402          192        Aruba Guilder      ƒ\n",
       "4     AUD               36           24     Australia Dollar      $\n",
       "..    ...              ...          ...                  ...    ...\n",
       "108   UZS       1083, 1074     43b, 432       Uzbekistan Som     лв\n",
       "109   VEF          66, 115       42, 73    Venezuela Bolivar     Bs\n",
       "110   VND             8363         20ab        Viet Nam Dong      ₫\n",
       "111   YER            65020         fdfc           Yemen Rial      ﷼\n",
       "112   ZWD           90, 36       5a, 24      Zimbabwe Dollar     Z$\n",
       "\n",
       "[113 rows x 5 columns]"
      ]
     },
     "execution_count": 184,
     "metadata": {},
     "output_type": "execute_result"
    }
   ],
   "source": [
    "fx_symbols"
   ]
  },
  {
   "cell_type": "code",
   "execution_count": 186,
   "metadata": {},
   "outputs": [
    {
     "data": {
      "text/html": [
       "<div>\n",
       "<style scoped>\n",
       "    .dataframe tbody tr th:only-of-type {\n",
       "        vertical-align: middle;\n",
       "    }\n",
       "\n",
       "    .dataframe tbody tr th {\n",
       "        vertical-align: top;\n",
       "    }\n",
       "\n",
       "    .dataframe thead th {\n",
       "        text-align: right;\n",
       "    }\n",
       "</style>\n",
       "<table border=\"1\" class=\"dataframe\">\n",
       "  <thead>\n",
       "    <tr style=\"text-align: right;\">\n",
       "      <th></th>\n",
       "      <th>_code</th>\n",
       "      <th>__text</th>\n",
       "      <th>Symbol</th>\n",
       "    </tr>\n",
       "  </thead>\n",
       "  <tbody>\n",
       "    <tr>\n",
       "      <th>0</th>\n",
       "      <td>ALL</td>\n",
       "      <td>Albania Lek</td>\n",
       "      <td>Lek</td>\n",
       "    </tr>\n",
       "    <tr>\n",
       "      <th>1</th>\n",
       "      <td>AFN</td>\n",
       "      <td>Afghanistan Afghani</td>\n",
       "      <td>؋</td>\n",
       "    </tr>\n",
       "    <tr>\n",
       "      <th>2</th>\n",
       "      <td>ARS</td>\n",
       "      <td>Argentina Peso</td>\n",
       "      <td>$</td>\n",
       "    </tr>\n",
       "    <tr>\n",
       "      <th>3</th>\n",
       "      <td>AWG</td>\n",
       "      <td>Aruba Guilder</td>\n",
       "      <td>ƒ</td>\n",
       "    </tr>\n",
       "    <tr>\n",
       "      <th>4</th>\n",
       "      <td>AUD</td>\n",
       "      <td>Australia Dollar</td>\n",
       "      <td>$</td>\n",
       "    </tr>\n",
       "    <tr>\n",
       "      <th>...</th>\n",
       "      <td>...</td>\n",
       "      <td>...</td>\n",
       "      <td>...</td>\n",
       "    </tr>\n",
       "    <tr>\n",
       "      <th>108</th>\n",
       "      <td>UZS</td>\n",
       "      <td>Uzbekistan Som</td>\n",
       "      <td>лв</td>\n",
       "    </tr>\n",
       "    <tr>\n",
       "      <th>109</th>\n",
       "      <td>VEF</td>\n",
       "      <td>Venezuela Bolivar</td>\n",
       "      <td>Bs</td>\n",
       "    </tr>\n",
       "    <tr>\n",
       "      <th>110</th>\n",
       "      <td>VND</td>\n",
       "      <td>Viet Nam Dong</td>\n",
       "      <td>₫</td>\n",
       "    </tr>\n",
       "    <tr>\n",
       "      <th>111</th>\n",
       "      <td>YER</td>\n",
       "      <td>Yemen Rial</td>\n",
       "      <td>﷼</td>\n",
       "    </tr>\n",
       "    <tr>\n",
       "      <th>112</th>\n",
       "      <td>ZWD</td>\n",
       "      <td>Zimbabwe Dollar</td>\n",
       "      <td>Z$</td>\n",
       "    </tr>\n",
       "  </tbody>\n",
       "</table>\n",
       "<p>113 rows × 3 columns</p>\n",
       "</div>"
      ],
      "text/plain": [
       "    _code               __text Symbol\n",
       "0     ALL          Albania Lek    Lek\n",
       "1     AFN  Afghanistan Afghani      ؋\n",
       "2     ARS       Argentina Peso      $\n",
       "3     AWG        Aruba Guilder      ƒ\n",
       "4     AUD     Australia Dollar      $\n",
       "..    ...                  ...    ...\n",
       "108   UZS       Uzbekistan Som     лв\n",
       "109   VEF    Venezuela Bolivar     Bs\n",
       "110   VND        Viet Nam Dong      ₫\n",
       "111   YER           Yemen Rial      ﷼\n",
       "112   ZWD      Zimbabwe Dollar     Z$\n",
       "\n",
       "[113 rows x 3 columns]"
      ]
     },
     "execution_count": 186,
     "metadata": {},
     "output_type": "execute_result"
    }
   ],
   "source": [
    "symbs = fx_symbols.drop(columns=['_unicode-decimal', '_unicode-hex'])\n",
    "symbs"
   ]
  },
  {
   "cell_type": "code",
   "execution_count": 187,
   "metadata": {},
   "outputs": [],
   "source": [
    "mer_fx_codes = fx_codes.merge(symbs, how='left', left_on='Ticker', right_on='_code')"
   ]
  },
  {
   "cell_type": "code",
   "execution_count": 188,
   "metadata": {},
   "outputs": [
    {
     "data": {
      "text/html": [
       "<div>\n",
       "<style scoped>\n",
       "    .dataframe tbody tr th:only-of-type {\n",
       "        vertical-align: middle;\n",
       "    }\n",
       "\n",
       "    .dataframe tbody tr th {\n",
       "        vertical-align: top;\n",
       "    }\n",
       "\n",
       "    .dataframe thead th {\n",
       "        text-align: right;\n",
       "    }\n",
       "</style>\n",
       "<table border=\"1\" class=\"dataframe\">\n",
       "  <thead>\n",
       "    <tr style=\"text-align: right;\">\n",
       "      <th></th>\n",
       "      <th>Entity</th>\n",
       "      <th>Currency</th>\n",
       "      <th>Ticker</th>\n",
       "      <th>ISO_4217</th>\n",
       "      <th>Minor_unit</th>\n",
       "      <th>Fund</th>\n",
       "      <th>Description</th>\n",
       "      <th>_code</th>\n",
       "      <th>__text</th>\n",
       "      <th>Symbol</th>\n",
       "    </tr>\n",
       "  </thead>\n",
       "  <tbody>\n",
       "    <tr>\n",
       "      <th>0</th>\n",
       "      <td>Afghanistan</td>\n",
       "      <td>Afghani</td>\n",
       "      <td>AFN</td>\n",
       "      <td>971.0</td>\n",
       "      <td>2.0</td>\n",
       "      <td>NaN</td>\n",
       "      <td>NaN</td>\n",
       "      <td>AFN</td>\n",
       "      <td>Afghanistan Afghani</td>\n",
       "      <td>؋</td>\n",
       "    </tr>\n",
       "    <tr>\n",
       "      <th>1</th>\n",
       "      <td>Åland Islands</td>\n",
       "      <td>Euro</td>\n",
       "      <td>EUR</td>\n",
       "      <td>978.0</td>\n",
       "      <td>2.0</td>\n",
       "      <td>NaN</td>\n",
       "      <td>NaN</td>\n",
       "      <td>EUR</td>\n",
       "      <td>Euro Member Countries</td>\n",
       "      <td>€</td>\n",
       "    </tr>\n",
       "    <tr>\n",
       "      <th>2</th>\n",
       "      <td>Albania</td>\n",
       "      <td>Lek</td>\n",
       "      <td>ALL</td>\n",
       "      <td>8.0</td>\n",
       "      <td>2.0</td>\n",
       "      <td>NaN</td>\n",
       "      <td>NaN</td>\n",
       "      <td>ALL</td>\n",
       "      <td>Albania Lek</td>\n",
       "      <td>Lek</td>\n",
       "    </tr>\n",
       "    <tr>\n",
       "      <th>3</th>\n",
       "      <td>Algeria</td>\n",
       "      <td>Algerian Dinar</td>\n",
       "      <td>DZD</td>\n",
       "      <td>12.0</td>\n",
       "      <td>2.0</td>\n",
       "      <td>NaN</td>\n",
       "      <td>NaN</td>\n",
       "      <td>NaN</td>\n",
       "      <td>NaN</td>\n",
       "      <td>NaN</td>\n",
       "    </tr>\n",
       "    <tr>\n",
       "      <th>4</th>\n",
       "      <td>American Samoa</td>\n",
       "      <td>US Dollar</td>\n",
       "      <td>USD</td>\n",
       "      <td>840.0</td>\n",
       "      <td>2.0</td>\n",
       "      <td>NaN</td>\n",
       "      <td>NaN</td>\n",
       "      <td>USD</td>\n",
       "      <td>United States Dollar</td>\n",
       "      <td>$</td>\n",
       "    </tr>\n",
       "    <tr>\n",
       "      <th>...</th>\n",
       "      <td>...</td>\n",
       "      <td>...</td>\n",
       "      <td>...</td>\n",
       "      <td>...</td>\n",
       "      <td>...</td>\n",
       "      <td>...</td>\n",
       "      <td>...</td>\n",
       "      <td>...</td>\n",
       "      <td>...</td>\n",
       "      <td>...</td>\n",
       "    </tr>\n",
       "    <tr>\n",
       "      <th>274</th>\n",
       "      <td>ZZ07_No_Currency</td>\n",
       "      <td>The codes assigned for transactions where no c...</td>\n",
       "      <td>XXX</td>\n",
       "      <td>999.0</td>\n",
       "      <td>NaN</td>\n",
       "      <td>NaN</td>\n",
       "      <td>NaN</td>\n",
       "      <td>NaN</td>\n",
       "      <td>NaN</td>\n",
       "      <td>NaN</td>\n",
       "    </tr>\n",
       "    <tr>\n",
       "      <th>275</th>\n",
       "      <td>ZZ08_Gold</td>\n",
       "      <td>Gold</td>\n",
       "      <td>XAU</td>\n",
       "      <td>959.0</td>\n",
       "      <td>NaN</td>\n",
       "      <td>NaN</td>\n",
       "      <td>NaN</td>\n",
       "      <td>NaN</td>\n",
       "      <td>NaN</td>\n",
       "      <td>NaN</td>\n",
       "    </tr>\n",
       "    <tr>\n",
       "      <th>276</th>\n",
       "      <td>ZZ09_Palladium</td>\n",
       "      <td>Palladium</td>\n",
       "      <td>XPD</td>\n",
       "      <td>964.0</td>\n",
       "      <td>NaN</td>\n",
       "      <td>NaN</td>\n",
       "      <td>NaN</td>\n",
       "      <td>NaN</td>\n",
       "      <td>NaN</td>\n",
       "      <td>NaN</td>\n",
       "    </tr>\n",
       "    <tr>\n",
       "      <th>277</th>\n",
       "      <td>ZZ10_Platinum</td>\n",
       "      <td>Platinum</td>\n",
       "      <td>XPT</td>\n",
       "      <td>962.0</td>\n",
       "      <td>NaN</td>\n",
       "      <td>NaN</td>\n",
       "      <td>NaN</td>\n",
       "      <td>NaN</td>\n",
       "      <td>NaN</td>\n",
       "      <td>NaN</td>\n",
       "    </tr>\n",
       "    <tr>\n",
       "      <th>278</th>\n",
       "      <td>ZZ11_Silver</td>\n",
       "      <td>Silver</td>\n",
       "      <td>XAG</td>\n",
       "      <td>961.0</td>\n",
       "      <td>NaN</td>\n",
       "      <td>NaN</td>\n",
       "      <td>NaN</td>\n",
       "      <td>NaN</td>\n",
       "      <td>NaN</td>\n",
       "      <td>NaN</td>\n",
       "    </tr>\n",
       "  </tbody>\n",
       "</table>\n",
       "<p>279 rows × 10 columns</p>\n",
       "</div>"
      ],
      "text/plain": [
       "               Entity                                           Currency  \\\n",
       "0         Afghanistan                                            Afghani   \n",
       "1       Åland Islands                                               Euro   \n",
       "2             Albania                                                Lek   \n",
       "3             Algeria                                     Algerian Dinar   \n",
       "4      American Samoa                                          US Dollar   \n",
       "..                ...                                                ...   \n",
       "274  ZZ07_No_Currency  The codes assigned for transactions where no c...   \n",
       "275         ZZ08_Gold                                               Gold   \n",
       "276    ZZ09_Palladium                                          Palladium   \n",
       "277     ZZ10_Platinum                                           Platinum   \n",
       "278       ZZ11_Silver                                             Silver   \n",
       "\n",
       "    Ticker  ISO_4217  Minor_unit Fund Description _code  \\\n",
       "0      AFN     971.0         2.0  NaN         NaN   AFN   \n",
       "1      EUR     978.0         2.0  NaN         NaN   EUR   \n",
       "2      ALL       8.0         2.0  NaN         NaN   ALL   \n",
       "3      DZD      12.0         2.0  NaN         NaN   NaN   \n",
       "4      USD     840.0         2.0  NaN         NaN   USD   \n",
       "..     ...       ...         ...  ...         ...   ...   \n",
       "274    XXX     999.0         NaN  NaN         NaN   NaN   \n",
       "275    XAU     959.0         NaN  NaN         NaN   NaN   \n",
       "276    XPD     964.0         NaN  NaN         NaN   NaN   \n",
       "277    XPT     962.0         NaN  NaN         NaN   NaN   \n",
       "278    XAG     961.0         NaN  NaN         NaN   NaN   \n",
       "\n",
       "                    __text Symbol  \n",
       "0      Afghanistan Afghani      ؋  \n",
       "1    Euro Member Countries      €  \n",
       "2              Albania Lek    Lek  \n",
       "3                      NaN    NaN  \n",
       "4     United States Dollar      $  \n",
       "..                     ...    ...  \n",
       "274                    NaN    NaN  \n",
       "275                    NaN    NaN  \n",
       "276                    NaN    NaN  \n",
       "277                    NaN    NaN  \n",
       "278                    NaN    NaN  \n",
       "\n",
       "[279 rows x 10 columns]"
      ]
     },
     "execution_count": 188,
     "metadata": {},
     "output_type": "execute_result"
    }
   ],
   "source": [
    "mer_fx_codes"
   ]
  },
  {
   "cell_type": "code",
   "execution_count": 203,
   "metadata": {},
   "outputs": [
    {
     "data": {
      "text/plain": [
       "$       59\n",
       "€       35\n",
       "£       10\n",
       "kr       8\n",
       "﷼        5\n",
       "₨        5\n",
       "лв       4\n",
       "R        3\n",
       "ƒ        3\n",
       "₹        2\n",
       "₩        2\n",
       "CHF      2\n",
       "¥        2\n",
       "₱        2\n",
       "₮        1\n",
       "MT       1\n",
       "C$       1\n",
       "₦        1\n",
       "B/.      1\n",
       "Gs       1\n",
       "؋        1\n",
       "S/.      1\n",
       "zł       1\n",
       "RM       1\n",
       "руб      1\n",
       "Дин.     1\n",
       "S        1\n",
       "NT$      1\n",
       "฿        1\n",
       "TT$      1\n",
       "₺        1\n",
       "₴        1\n",
       "$U       1\n",
       "lei      1\n",
       "₪        1\n",
       "ден      1\n",
       "₭        1\n",
       "Lek      1\n",
       "ман      1\n",
       "BZ$      1\n",
       "$b       1\n",
       "KM       1\n",
       "P        1\n",
       "R$       1\n",
       "៛        1\n",
       "₡        1\n",
       "kn       1\n",
       "Kč       1\n",
       "RD$      1\n",
       "Q        1\n",
       "L        1\n",
       "Ft       1\n",
       "Rp       1\n",
       "J$       1\n",
       "₫        1\n",
       "Name: Symbol, dtype: int64"
      ]
     },
     "execution_count": 203,
     "metadata": {},
     "output_type": "execute_result"
    }
   ],
   "source": [
    "mer_fx_codes['Symbol'].value_counts()"
   ]
  },
  {
   "cell_type": "code",
   "execution_count": 201,
   "metadata": {},
   "outputs": [
    {
     "data": {
      "text/plain": [
       "_code  __text                 Symbol\n",
       "EUR    Euro Member Countries  €         1\n",
       "dtype: int64"
      ]
     },
     "execution_count": 201,
     "metadata": {},
     "output_type": "execute_result"
    }
   ],
   "source": [
    "(symbs.loc[symbs['Symbol'] == '€'].value_counts())"
   ]
  },
  {
   "cell_type": "code",
   "execution_count": 200,
   "metadata": {},
   "outputs": [
    {
     "data": {
      "text/plain": [
       "Series([], dtype: int64)"
      ]
     },
     "execution_count": 200,
     "metadata": {},
     "output_type": "execute_result"
    }
   ],
   "source": []
  },
  {
   "cell_type": "code",
   "execution_count": 217,
   "metadata": {},
   "outputs": [
    {
     "data": {
      "text/html": [
       "<div>\n",
       "<style scoped>\n",
       "    .dataframe tbody tr th:only-of-type {\n",
       "        vertical-align: middle;\n",
       "    }\n",
       "\n",
       "    .dataframe tbody tr th {\n",
       "        vertical-align: top;\n",
       "    }\n",
       "\n",
       "    .dataframe thead th {\n",
       "        text-align: right;\n",
       "    }\n",
       "</style>\n",
       "<table border=\"1\" class=\"dataframe\">\n",
       "  <thead>\n",
       "    <tr style=\"text-align: right;\">\n",
       "      <th></th>\n",
       "      <th>Entity</th>\n",
       "      <th>Currency</th>\n",
       "      <th>Ticker</th>\n",
       "      <th>ISO_4217</th>\n",
       "      <th>Minor_unit</th>\n",
       "      <th>Fund</th>\n",
       "      <th>Description</th>\n",
       "      <th>_code</th>\n",
       "      <th>__text</th>\n",
       "      <th>Symbol</th>\n",
       "    </tr>\n",
       "  </thead>\n",
       "  <tbody>\n",
       "    <tr>\n",
       "      <th>24</th>\n",
       "      <td>Bhutan</td>\n",
       "      <td>Indian Rupee</td>\n",
       "      <td>INR</td>\n",
       "      <td>356.0</td>\n",
       "      <td>2.0</td>\n",
       "      <td>NaN</td>\n",
       "      <td>NaN</td>\n",
       "      <td>INR</td>\n",
       "      <td>India Rupee</td>\n",
       "      <td>₹</td>\n",
       "    </tr>\n",
       "    <tr>\n",
       "      <th>110</th>\n",
       "      <td>India</td>\n",
       "      <td>Indian Rupee</td>\n",
       "      <td>INR</td>\n",
       "      <td>356.0</td>\n",
       "      <td>2.0</td>\n",
       "      <td>NaN</td>\n",
       "      <td>NaN</td>\n",
       "      <td>INR</td>\n",
       "      <td>India Rupee</td>\n",
       "      <td>₹</td>\n",
       "    </tr>\n",
       "  </tbody>\n",
       "</table>\n",
       "</div>"
      ],
      "text/plain": [
       "     Entity      Currency Ticker  ISO_4217  Minor_unit Fund Description _code  \\\n",
       "24   Bhutan  Indian Rupee    INR     356.0         2.0  NaN         NaN   INR   \n",
       "110   India  Indian Rupee    INR     356.0         2.0  NaN         NaN   INR   \n",
       "\n",
       "          __text Symbol  \n",
       "24   India Rupee      ₹  \n",
       "110  India Rupee      ₹  "
      ]
     },
     "execution_count": 217,
     "metadata": {},
     "output_type": "execute_result"
    }
   ],
   "source": [
    "(mer_fx_codes.loc[mer_fx_codes['Ticker'] == 'INR'])"
   ]
  },
  {
   "cell_type": "code",
   "execution_count": 208,
   "metadata": {},
   "outputs": [
    {
     "data": {
      "text/plain": [
       "'€'"
      ]
     },
     "execution_count": 208,
     "metadata": {},
     "output_type": "execute_result"
    }
   ],
   "source": [
    "mer_fx_codes.iloc[1]['Symbol']"
   ]
  },
  {
   "cell_type": "code",
   "execution_count": 218,
   "metadata": {},
   "outputs": [],
   "source": [
    "# mer_fx_codes.to_csv('csv_files/ISO_4217_FX_Codes.csv', index=False)"
   ]
  },
  {
   "cell_type": "code",
   "execution_count": null,
   "metadata": {},
   "outputs": [],
   "source": []
  }
 ],
 "metadata": {
  "interpreter": {
   "hash": "eadf9ca2f0136a17db7d8b7f130ae155eb3ce8fa17d05332ddccc486fc5abac6"
  },
  "kernelspec": {
   "display_name": "Python 3.9.6 64-bit ('pwepip': conda)",
   "language": "python",
   "name": "python3"
  },
  "language_info": {
   "codemirror_mode": {
    "name": "ipython",
    "version": 3
   },
   "file_extension": ".py",
   "mimetype": "text/x-python",
   "name": "python",
   "nbconvert_exporter": "python",
   "pygments_lexer": "ipython3",
   "version": "3.9.6"
  },
  "orig_nbformat": 4
 },
 "nbformat": 4,
 "nbformat_minor": 2
}
