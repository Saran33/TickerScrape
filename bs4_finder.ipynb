{
 "cells": [
  {
   "cell_type": "code",
   "execution_count": 1,
   "metadata": {},
   "outputs": [],
   "source": [
    "from bs4 import BeautifulSoup\n",
    "import requests as rq\n",
    "from lxml import etree\n",
    "from unicodedata import normalize\n",
    "import re"
   ]
  },
  {
   "cell_type": "code",
   "execution_count": 5,
   "metadata": {},
   "outputs": [],
   "source": [
    "from TickerScrape.items import to_float, curr_str_to_float, perc_str_to_float, to_int"
   ]
  },
  {
   "cell_type": "code",
   "execution_count": 33,
   "metadata": {},
   "outputs": [],
   "source": [
    "url = 'https://www.marketwatch.com/investing/stock/aapl/company-profile?mod=mw_quote_tab'"
   ]
  },
  {
   "cell_type": "code",
   "execution_count": 34,
   "metadata": {},
   "outputs": [],
   "source": [
    "response = rq.get(url)\n",
    "page_source = BeautifulSoup(response.text, 'lxml')\n",
    "dom = etree.HTML(str(page_source))"
   ]
  },
  {
   "cell_type": "code",
   "execution_count": 35,
   "metadata": {},
   "outputs": [],
   "source": [
    "# pos = page_source.find('p', attrs={'data-test': \"author-aside-title\"}).text.strip()\n",
    "# pos"
   ]
  },
  {
   "cell_type": "code",
   "execution_count": 36,
   "metadata": {},
   "outputs": [
    {
     "data": {
      "text/plain": [
       "7.18"
      ]
     },
     "execution_count": 36,
     "metadata": {},
     "output_type": "execute_result"
    }
   ],
   "source": [
    "price_to_sales = [to_float(text.strip()) for text in dom.xpath('.//table[@aria-label=\"VALUATION data table\"]/tbody/tr[4]/td[2]/text()')][0]\n",
    "price_to_sales "
   ]
  },
  {
   "cell_type": "code",
   "execution_count": 37,
   "metadata": {},
   "outputs": [
    {
     "data": {
      "text/plain": [
       "29.17"
      ]
     },
     "execution_count": 37,
     "metadata": {},
     "output_type": "execute_result"
    }
   ],
   "source": [
    "price_to_book = [to_float(text.strip()) for text in dom.xpath('//table[@aria-label=\"VALUATION data table\"]/tbody/tr[5]/td[2]/text()')][0]\n",
    "price_to_book"
   ]
  },
  {
   "cell_type": "code",
   "execution_count": 38,
   "metadata": {},
   "outputs": [],
   "source": [
    "def perc_str_to_float(perc_str):\n",
    "    '''Convert a percentage string-formatted number into a float.'''\n",
    "    if type(perc_str) is str:\n",
    "        try:\n",
    "            fl_num = float(perc_str.replace(',', '').replace('%', ''))\n",
    "            fl = fl_num / 100\n",
    "        except:\n",
    "            fl = float(\"NaN\")\n",
    "    else:\n",
    "        try:\n",
    "            fl_num = float(perc_str)\n",
    "            fl = fl_num / 100\n",
    "        except:\n",
    "            fl = float(\"NaN\")\n",
    "    return fl"
   ]
  },
  {
   "cell_type": "code",
   "execution_count": 39,
   "metadata": {},
   "outputs": [
    {
     "data": {
      "text/plain": [
       "0.2094"
      ]
     },
     "execution_count": 39,
     "metadata": {},
     "output_type": "execute_result"
    }
   ],
   "source": [
    "net_margin = [perc_str_to_float(text.strip()) for text in dom.xpath(\n",
    "    '//table[@aria-label=\"PROFITABILITY data table\"]/tbody/tr[4]/td[2]/text()')][0]\n",
    "net_margin"
   ]
  },
  {
   "cell_type": "code",
   "execution_count": 40,
   "metadata": {},
   "outputs": [
    {
     "data": {
      "text/plain": [
       "'Apple, Inc. engages in the design, manufacture, and sale of smartphones, personal computers, tablets, wearables and accessories, and other variety of related services. It operates through the following geographical segments: Americas, Europe, Greater China, Japan, and Rest of Asia Pacific. The Americas segment includes North and South America. The Europe segment consists of European countries, as well as India, the Middle East, and Africa. The Greater China segment comprises of China, Hong Kong, and Taiwan. The Rest of Asia Pacific segment includes Australia and Asian countries. Its products and services include iPhone, Mac, iPad, AirPods, Apple TV, Apple Watch, Beats products, Apple Care, iCloud, digital content stores, streaming, and licensing services. The company was founded by Steven Paul Jobs, Ronald Gerald Wayne, and Stephen G. Wozniak in April 1976 and is headquartered in Cupertino, CA.'"
      ]
     },
     "execution_count": 40,
     "metadata": {},
     "output_type": "execute_result"
    }
   ],
   "source": [
    "sec_summary = [text.strip() for text in dom.xpath(\n",
    "    '//p[@class=\"description__text\"]/text()')][0]\n",
    "sec_summary"
   ]
  },
  {
   "cell_type": "code",
   "execution_count": 47,
   "metadata": {},
   "outputs": [
    {
     "name": "stdout",
     "output_type": "stream",
     "text": [
      "None\n"
     ]
    }
   ],
   "source": [
    "def to_int(int_str):\n",
    "    if int_str.strip() == 'N/A':\n",
    "        integ = None\n",
    "    else:\n",
    "        try:\n",
    "            integ = int(int_str)\n",
    "        except:\n",
    "            integ = None\n",
    "    return integ\n",
    "\n",
    "int_str = 'N/A'\n",
    "print(to_int(int_str))"
   ]
  },
  {
   "cell_type": "code",
   "execution_count": 3,
   "metadata": {},
   "outputs": [],
   "source": [
    "# url = 'https://www.marketwatch.com/investing/stock/aapl/analystestimates?mod=mw_quote_tab'\n",
    "url = 'https://www.marketwatch.com/investing/stock/absi/analystestimates?mod=mw_quote_tab'\n",
    "\n",
    "response = rq.get(url)\n",
    "page_source = BeautifulSoup(response.text, 'lxml')\n",
    "dom = etree.HTML(str(page_source))"
   ]
  },
  {
   "cell_type": "code",
   "execution_count": 7,
   "metadata": {},
   "outputs": [
    {
     "data": {
      "text/plain": [
       "5"
      ]
     },
     "execution_count": 7,
     "metadata": {},
     "output_type": "execute_result"
    }
   ],
   "source": [
    "no_of_ratings = [to_int(text.strip()) for text in dom.xpath(\n",
    "    '//table[@aria-label=\"snapshot data table\"]/tbody/tr[3]/td[2]/text()')][0]\n",
    "no_of_ratings"
   ]
  },
  {
   "cell_type": "code",
   "execution_count": 8,
   "metadata": {},
   "outputs": [
    {
     "data": {
      "text/plain": [
       "nan"
      ]
     },
     "execution_count": 8,
     "metadata": {},
     "output_type": "execute_result"
    }
   ],
   "source": [
    "high_target = [curr_str_to_float(text.strip()) for text in dom.xpath(\n",
    "    '//table[@aria-label=\"stock price targets data table\"]/tbody/tr[1]/td[2]/text()')][0]\n",
    "high_target"
   ]
  },
  {
   "cell_type": "code",
   "execution_count": null,
   "metadata": {},
   "outputs": [],
   "source": []
  }
 ],
 "metadata": {
  "interpreter": {
   "hash": "497581ab8b68e3c2ef39c47d7e3c0ff119b32f5944e17571db2f7dc83154eb86"
  },
  "kernelspec": {
   "display_name": "Python 3.9.6 64-bit ('pwepip': conda)",
   "name": "python3"
  },
  "language_info": {
   "codemirror_mode": {
    "name": "ipython",
    "version": 3
   },
   "file_extension": ".py",
   "mimetype": "text/x-python",
   "name": "python",
   "nbconvert_exporter": "python",
   "pygments_lexer": "ipython3",
   "version": "3.9.6"
  },
  "orig_nbformat": 4
 },
 "nbformat": 4,
 "nbformat_minor": 2
}
